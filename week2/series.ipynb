{
 "cells": [
  {
   "cell_type": "code",
   "execution_count": 2,
   "metadata": {
    "collapsed": true
   },
   "outputs": [],
   "source": [
    "# 일반적인 import 컨벤션입니다.\n",
    "import pandas as pd\n",
    "import numpy as np"
   ]
  },
  {
   "cell_type": "code",
   "execution_count": 2,
   "metadata": {
    "collapsed": false
   },
   "outputs": [
    {
     "data": {
      "text/plain": [
       "0    1\n",
       "1    2\n",
       "2    3\n",
       "3    4\n",
       "dtype: int64"
      ]
     },
     "execution_count": 2,
     "metadata": {},
     "output_type": "execute_result"
    }
   ],
   "source": [
    "# 파이썬 리스트를 이용한 Series 생성\n",
    "pd.Series([1, 2, 3, 4])"
   ]
  },
  {
   "cell_type": "code",
   "execution_count": 3,
   "metadata": {
    "collapsed": false
   },
   "outputs": [
    {
     "data": {
      "text/plain": [
       "0     apple\n",
       "1    orange\n",
       "2    cherry\n",
       "3    banana\n",
       "dtype: object"
      ]
     },
     "execution_count": 3,
     "metadata": {},
     "output_type": "execute_result"
    }
   ],
   "source": [
    "# Series의 데이터는 숫자 외에 문자열을 넣어도 됩니다. \n",
    "pd.Series(['apple', 'orange', 'cherry', 'banana'])"
   ]
  },
  {
   "cell_type": "code",
   "execution_count": 4,
   "metadata": {
    "collapsed": false
   },
   "outputs": [
    {
     "data": {
      "text/plain": [
       "0    2015-12-13 10:26:00.106169\n",
       "1                        fc-pda\n",
       "2                            20\n",
       "dtype: object"
      ]
     },
     "execution_count": 4,
     "metadata": {},
     "output_type": "execute_result"
    }
   ],
   "source": [
    "# 파이썬에서 날짜/시간을 다루기 위한 모듈을 import\n",
    "from datetime import datetime\n",
    "\n",
    "# Series의 데이터가 모두 같은 타입이 아니어도 됩니다.\n",
    "pd.Series([datetime.now(), 'fc-pda', 20])"
   ]
  },
  {
   "cell_type": "code",
   "execution_count": 5,
   "metadata": {
    "collapsed": false
   },
   "outputs": [
    {
     "data": {
      "text/plain": [
       "0    2015-12-13 10:26:00.774378\n",
       "1                        fc-pda\n",
       "2                            20\n",
       "3               [1, 2, 3, 4, 5]\n",
       "dtype: object"
      ]
     },
     "execution_count": 5,
     "metadata": {},
     "output_type": "execute_result"
    }
   ],
   "source": [
    "# Series의 한 항목에 리스트가 들어가도 됩니다.\n",
    "# 각각 분리된 값이 아니라 정말로 '하나의' 단일 항목으로 리스트가 들어가야 되는지 꼭 생각해보세요.\n",
    "pd.Series([datetime.now(), 'fc-pda', 20, [1, 2, 3, 4, 5]])"
   ]
  },
  {
   "cell_type": "code",
   "execution_count": 6,
   "metadata": {
    "collapsed": false
   },
   "outputs": [
    {
     "data": {
      "text/plain": [
       "0     apple\n",
       "1    orange\n",
       "2    cherry\n",
       "3    banana\n",
       "dtype: object"
      ]
     },
     "execution_count": 6,
     "metadata": {},
     "output_type": "execute_result"
    }
   ],
   "source": [
    "# Series를 자세히 살펴보기 위해서 ser 변수에 과일 이름 Series를 담습니다.\n",
    "ser = pd.Series(['apple', 'orange', 'cherry', 'banana'])\n",
    "ser\n",
    "# 왼쪽에는 인덱스(색인)과 오른쪽에는 값이 표시됩니다. "
   ]
  },
  {
   "cell_type": "code",
   "execution_count": 7,
   "metadata": {
    "collapsed": false
   },
   "outputs": [
    {
     "data": {
      "text/plain": [
       "array(['apple', 'orange', 'cherry', 'banana'], dtype=object)"
      ]
     },
     "execution_count": 7,
     "metadata": {},
     "output_type": "execute_result"
    }
   ],
   "source": [
    "# ser Series의 값들\n",
    "ser.values"
   ]
  },
  {
   "cell_type": "code",
   "execution_count": 8,
   "metadata": {
    "collapsed": false
   },
   "outputs": [
    {
     "data": {
      "text/plain": [
       "Int64Index([0, 1, 2, 3], dtype='int64')"
      ]
     },
     "execution_count": 8,
     "metadata": {},
     "output_type": "execute_result"
    }
   ],
   "source": [
    "# ser Series의 인덱스\n",
    "ser.index"
   ]
  },
  {
   "cell_type": "code",
   "execution_count": 9,
   "metadata": {
    "collapsed": false
   },
   "outputs": [
    {
     "data": {
      "text/plain": [
       "apple     50\n",
       "orange    10\n",
       "cherry     5\n",
       "banana    20\n",
       "dtype: int64"
      ]
     },
     "execution_count": 9,
     "metadata": {},
     "output_type": "execute_result"
    }
   ],
   "source": [
    "# Series를 생성할 때 인덱스를 따로 주지 않으면 0부터 시작하는 정수가 인덱스로 사용되지만\n",
    "# index 목록을 직접 넘겨서 Series를 생성할 수도 있습니다.\n",
    "# 아래는 과일가게의 과일 재고를 표현하는 Series입니다.\n",
    "fruits = pd.Series([50, 10, 5, 20], index=['apple', 'orange', 'cherry', 'banana'])\n",
    "fruits"
   ]
  },
  {
   "cell_type": "code",
   "execution_count": 10,
   "metadata": {
    "collapsed": false
   },
   "outputs": [
    {
     "data": {
      "text/plain": [
       "50"
      ]
     },
     "execution_count": 10,
     "metadata": {},
     "output_type": "execute_result"
    }
   ],
   "source": [
    "# 인덱스를 문자열로 지정했지만 여전히 정수형 인덱스로 Series의 항목을 조회할 수 있습니다.\n",
    "# 0번째 항목의 값. apple의 재고 수량.\n",
    "fruits[0]"
   ]
  },
  {
   "cell_type": "code",
   "execution_count": 11,
   "metadata": {
    "collapsed": false
   },
   "outputs": [
    {
     "data": {
      "text/plain": [
       "20"
      ]
     },
     "execution_count": 11,
     "metadata": {},
     "output_type": "execute_result"
    }
   ],
   "source": [
    "# 인덱스 이름으로 조회도 가능합니다.\n",
    "fruits['banana']"
   ]
  },
  {
   "cell_type": "code",
   "execution_count": 3,
   "metadata": {
    "collapsed": false
   },
   "outputs": [
    {
     "data": {
      "text/plain": [
       "array([0, 1, 2, 3, 4, 5, 6, 7, 8, 9])"
      ]
     },
     "execution_count": 3,
     "metadata": {},
     "output_type": "execute_result"
    }
   ],
   "source": [
    "# 리스트 슬라이싱은 매우 빈번하게 사용하므로 빨리 익숙해지는게 중요합니다.\n",
    "# numpy의 arange()함수를 사용해서 0, 9까지 숫자가 담긴 리스트를 만듭니다.\n",
    "# 리스트 슬라이싱 문법은 아래와 같습니다.\n",
    "# l[start:stop:step]\n",
    "l = np.arange(10)\n",
    "l"
   ]
  },
  {
   "cell_type": "code",
   "execution_count": 13,
   "metadata": {
    "collapsed": false
   },
   "outputs": [
    {
     "data": {
      "text/plain": [
       "2"
      ]
     },
     "execution_count": 13,
     "metadata": {},
     "output_type": "execute_result"
    }
   ],
   "source": [
    "# 인덱스는 0부터 시작합니다. 리스트의 두번째가 아닌 2번째(세번째) 값\n",
    "l[2]"
   ]
  },
  {
   "cell_type": "code",
   "execution_count": 14,
   "metadata": {
    "collapsed": false
   },
   "outputs": [
    {
     "data": {
      "text/plain": [
       "array([0, 1, 2])"
      ]
     },
     "execution_count": 14,
     "metadata": {},
     "output_type": "execute_result"
    }
   ],
   "source": [
    "# start가 생략되면 처음부터 잘라냅니다.\n",
    "# 0, 1, 2번째까지 잘라냅니다. 인덱스 3은 포함하지 않습니다.\n",
    "l[:3]"
   ]
  },
  {
   "cell_type": "code",
   "execution_count": 7,
   "metadata": {
    "collapsed": false
   },
   "outputs": [
    {
     "data": {
      "text/plain": [
       "array([1, 2, 3, 4])"
      ]
     },
     "execution_count": 7,
     "metadata": {},
     "output_type": "execute_result"
    }
   ],
   "source": [
    "# 1, 2, 3, 4 인덱스\n",
    "l[1:5]"
   ]
  },
  {
   "cell_type": "code",
   "execution_count": 16,
   "metadata": {
    "collapsed": false
   },
   "outputs": [
    {
     "data": {
      "text/plain": [
       "9"
      ]
     },
     "execution_count": 16,
     "metadata": {},
     "output_type": "execute_result"
    }
   ],
   "source": [
    "# 음수는 뒤에서부터 계산합니다. -1이면 제일 마지막. -2면 뒤에서 두번째 값입니다.\n",
    "l[-1]"
   ]
  },
  {
   "cell_type": "code",
   "execution_count": 17,
   "metadata": {
    "collapsed": false
   },
   "outputs": [
    {
     "data": {
      "text/plain": [
       "apple     50\n",
       "orange    10\n",
       "cherry     5\n",
       "banana    20\n",
       "dtype: int64"
      ]
     },
     "execution_count": 17,
     "metadata": {},
     "output_type": "execute_result"
    }
   ],
   "source": [
    "# 과일 가게 재고 Series를 리스트 슬라이싱 문법으로 선택할 수 있습니다.\n",
    "fruits"
   ]
  },
  {
   "cell_type": "code",
   "execution_count": 18,
   "metadata": {
    "collapsed": false
   },
   "outputs": [
    {
     "data": {
      "text/plain": [
       "orange    10\n",
       "cherry     5\n",
       "dtype: int64"
      ]
     },
     "execution_count": 18,
     "metadata": {},
     "output_type": "execute_result"
    }
   ],
   "source": [
    "fruits[1:3]"
   ]
  },
  {
   "cell_type": "code",
   "execution_count": 19,
   "metadata": {
    "collapsed": false
   },
   "outputs": [
    {
     "data": {
      "text/plain": [
       "True"
      ]
     },
     "execution_count": 19,
     "metadata": {},
     "output_type": "execute_result"
    }
   ],
   "source": [
    "# Series에 특정 인덱스가 있는지 검사합니다.\n",
    "# 'apple' 인덱스가 존재하므로 아래 식의 결과는 True입니다.\n",
    "'apple' in fruits"
   ]
  },
  {
   "cell_type": "code",
   "execution_count": 20,
   "metadata": {
    "collapsed": false
   },
   "outputs": [
    {
     "data": {
      "text/plain": [
       "False"
      ]
     },
     "execution_count": 20,
     "metadata": {},
     "output_type": "execute_result"
    }
   ],
   "source": [
    "# 'pineapple' 인덱스는 존재하지 않으므로 결과는 False입니다.\n",
    "'pineapple' in fruits"
   ]
  },
  {
   "cell_type": "code",
   "execution_count": 21,
   "metadata": {
    "collapsed": false
   },
   "outputs": [
    {
     "data": {
      "text/plain": [
       "apple     50\n",
       "banana    20\n",
       "dtype: int64"
      ]
     },
     "execution_count": 21,
     "metadata": {},
     "output_type": "execute_result"
    }
   ],
   "source": [
    "# condition(조건식)을 사용해서 Series를 선택할 수도 있습니다.\n",
    "# fruits Series에서 값이 10 이상인 항목만 선택합니다.\n",
    "fruits[fruits > 10]"
   ]
  },
  {
   "cell_type": "code",
   "execution_count": 22,
   "metadata": {
    "collapsed": false
   },
   "outputs": [
    {
     "data": {
      "text/plain": [
       "Series([], dtype: int64)"
      ]
     },
     "execution_count": 22,
     "metadata": {},
     "output_type": "execute_result"
    }
   ],
   "source": [
    "# 값이 100 이상인 항목만 선택합니다. 결과가 존재하지 않으므로 빈 Series를 반환합니다.\n",
    "fruits[fruits > 100]"
   ]
  },
  {
   "cell_type": "code",
   "execution_count": 23,
   "metadata": {
    "collapsed": false
   },
   "outputs": [
    {
     "data": {
      "text/plain": [
       "{'apple': 50, 'banana': 20, 'cherry': 5, 'orange': 10}"
      ]
     },
     "execution_count": 23,
     "metadata": {},
     "output_type": "execute_result"
    }
   ],
   "source": [
    "# 파이썬의 사전 타입으로 변환이 가능합니다.\n",
    "fruits.to_dict()"
   ]
  },
  {
   "cell_type": "code",
   "execution_count": 24,
   "metadata": {
    "collapsed": false
   },
   "outputs": [
    {
     "data": {
      "text/plain": [
       "{'apple': 50, 'banana': 20, 'cherry': 5, 'orange': 10}"
      ]
     },
     "execution_count": 24,
     "metadata": {},
     "output_type": "execute_result"
    }
   ],
   "source": [
    "# 이 말은, 파이썬의 사전 타입으로 Series를 생성하는 것도 가능하다는 의미입니다.\n",
    "# 우선 사전 타입으로 변환된 결과를 d 변수에 대입합니다.\n",
    "d = fruits.to_dict()\n",
    "d"
   ]
  },
  {
   "cell_type": "code",
   "execution_count": 25,
   "metadata": {
    "collapsed": false
   },
   "outputs": [
    {
     "data": {
      "text/plain": [
       "apple     50\n",
       "banana    20\n",
       "cherry     5\n",
       "orange    10\n",
       "melon    NaN\n",
       "plum     NaN\n",
       "dtype: float64"
      ]
     },
     "execution_count": 25,
     "metadata": {},
     "output_type": "execute_result"
    }
   ],
   "source": [
    "# 새로 생성할 Series의 값으로 d를 넘기고 index에 'melon'과 'plum'을 추가해보겠습니다.\n",
    "# melon과 plum에 대한 값이 존재하지 않으므로 자동으로 NaN(Not A Number)을 채웁니다.\n",
    "fruits2 = pd.Series(d, index=['apple', 'banana', 'cherry', 'orange', 'melon', 'plum'])\n",
    "fruits2"
   ]
  },
  {
   "cell_type": "code",
   "execution_count": 26,
   "metadata": {
    "collapsed": false
   },
   "outputs": [
    {
     "data": {
      "text/plain": [
       "apple     False\n",
       "banana    False\n",
       "cherry    False\n",
       "orange    False\n",
       "melon      True\n",
       "plum       True\n",
       "dtype: bool"
      ]
     },
     "execution_count": 26,
     "metadata": {},
     "output_type": "execute_result"
    }
   ],
   "source": [
    "# 값이 존재하지 않는 항목에 대한 Boolean Series를 생성합니다.\n",
    "pd.isnull(fruits2)"
   ]
  },
  {
   "cell_type": "code",
   "execution_count": 27,
   "metadata": {
    "collapsed": false
   },
   "outputs": [
    {
     "data": {
      "text/plain": [
       "apple      True\n",
       "banana     True\n",
       "cherry     True\n",
       "orange     True\n",
       "melon     False\n",
       "plum      False\n",
       "dtype: bool"
      ]
     },
     "execution_count": 27,
     "metadata": {},
     "output_type": "execute_result"
    }
   ],
   "source": [
    "# 값이 존재하는 항목에 대한 Boolean Series를 생성합니다.\n",
    "pd.notnull(fruits2)"
   ]
  },
  {
   "cell_type": "code",
   "execution_count": 28,
   "metadata": {
    "collapsed": false
   },
   "outputs": [
    {
     "data": {
      "text/plain": [
       "apple     50\n",
       "banana    20\n",
       "cherry     5\n",
       "orange    10\n",
       "melon    NaN\n",
       "plum     NaN\n",
       "Name: 과일 재고, dtype: float64"
      ]
     },
     "execution_count": 28,
     "metadata": {},
     "output_type": "execute_result"
    }
   ],
   "source": [
    "# Series의 이름을 지정할 수도 있습니다.\n",
    "fruits2.name = '과일 재고'\n",
    "fruits2"
   ]
  },
  {
   "cell_type": "code",
   "execution_count": 29,
   "metadata": {
    "collapsed": false
   },
   "outputs": [
    {
     "data": {
      "text/plain": [
       "과일 종류\n",
       "apple     50\n",
       "banana    20\n",
       "cherry     5\n",
       "orange    10\n",
       "melon    NaN\n",
       "plum     NaN\n",
       "Name: 과일 재고, dtype: float64"
      ]
     },
     "execution_count": 29,
     "metadata": {},
     "output_type": "execute_result"
    }
   ],
   "source": [
    "# 인덱스의 이름을 지정할 수도 있죠\n",
    "fruits2.index.name = '과일 종류'\n",
    "fruits2"
   ]
  },
  {
   "cell_type": "code",
   "execution_count": 30,
   "metadata": {
    "collapsed": false
   },
   "outputs": [
    {
     "data": {
      "text/plain": [
       "과일 종류\n",
       "apple     50\n",
       "banana    20\n",
       "cherry     5\n",
       "melon    NaN\n",
       "orange    10\n",
       "plum     NaN\n",
       "Name: 과일 재고, dtype: float64"
      ]
     },
     "execution_count": 30,
     "metadata": {},
     "output_type": "execute_result"
    }
   ],
   "source": [
    "# 인덱스를 기준으로 정렬을 해보겠습니다.\n",
    "fruits2.sort_index()"
   ]
  },
  {
   "cell_type": "code",
   "execution_count": 31,
   "metadata": {
    "collapsed": false
   },
   "outputs": [
    {
     "name": "stderr",
     "output_type": "stream",
     "text": [
      "/Users/scari/.pyenv/versions/anaconda3-2.3.0/lib/python3.4/site-packages/ipykernel/__main__.py:2: FutureWarning: order is deprecated, use sort_values(...)\n",
      "  from ipykernel import kernelapp as app\n"
     ]
    },
    {
     "data": {
      "text/plain": [
       "과일 종류\n",
       "cherry     5\n",
       "orange    10\n",
       "banana    20\n",
       "apple     50\n",
       "melon    NaN\n",
       "plum     NaN\n",
       "Name: 과일 재고, dtype: float64"
      ]
     },
     "execution_count": 31,
     "metadata": {},
     "output_type": "execute_result"
    }
   ],
   "source": [
    "# 값을 기존으로 정렬해보겠습니다.\n",
    "fruits2.order()"
   ]
  },
  {
   "cell_type": "code",
   "execution_count": 32,
   "metadata": {
    "collapsed": false
   },
   "outputs": [
    {
     "name": "stderr",
     "output_type": "stream",
     "text": [
      "/Users/scari/.pyenv/versions/anaconda3-2.3.0/lib/python3.4/site-packages/ipykernel/__main__.py:2: FutureWarning: order is deprecated, use sort_values(...)\n",
      "  from ipykernel import kernelapp as app\n"
     ]
    },
    {
     "data": {
      "text/plain": [
       "과일 종류\n",
       "apple     50\n",
       "banana    20\n",
       "orange    10\n",
       "cherry     5\n",
       "melon    NaN\n",
       "plum     NaN\n",
       "Name: 과일 재고, dtype: float64"
      ]
     },
     "execution_count": 32,
     "metadata": {},
     "output_type": "execute_result"
    }
   ],
   "source": [
    "# order() 함수에 ascending 인자로 False를 넘겨서 내림 차순으로 정렬합니다.\n",
    "fruits2.order(ascending=False)"
   ]
  },
  {
   "cell_type": "code",
   "execution_count": 33,
   "metadata": {
    "collapsed": false
   },
   "outputs": [
    {
     "data": {
      "text/plain": [
       "암살      12575474\n",
       "베테랑     12187071\n",
       "어벤저스    10494499\n",
       "킹스맨      6129681\n",
       "dtype: int64"
      ]
     },
     "execution_count": 33,
     "metadata": {},
     "output_type": "execute_result"
    }
   ],
   "source": [
    "# 영화 박스 오피스 정보로 Series를 생성합니다.\n",
    "box_office = pd.Series([12575474, 12187071, 10494499, 6129681],\n",
    "                       index=['암살', '베테랑', '어벤저스', '킹스맨'])\n",
    "box_office"
   ]
  },
  {
   "cell_type": "code",
   "execution_count": 34,
   "metadata": {
    "collapsed": false
   },
   "outputs": [
    {
     "data": {
      "text/plain": [
       "10494499"
      ]
     },
     "execution_count": 34,
     "metadata": {},
     "output_type": "execute_result"
    }
   ],
   "source": [
    "# 정수 인덱스로 선택\n",
    "box_office[2]"
   ]
  },
  {
   "cell_type": "code",
   "execution_count": 35,
   "metadata": {
    "collapsed": false
   },
   "outputs": [
    {
     "data": {
      "text/plain": [
       "6129681"
      ]
     },
     "execution_count": 35,
     "metadata": {},
     "output_type": "execute_result"
    }
   ],
   "source": [
    "# 인덱스로 선택\n",
    "box_office['킹스맨']"
   ]
  },
  {
   "cell_type": "code",
   "execution_count": 36,
   "metadata": {
    "collapsed": false
   },
   "outputs": [
    {
     "data": {
      "text/plain": [
       "False"
      ]
     },
     "execution_count": 36,
     "metadata": {},
     "output_type": "execute_result"
    }
   ],
   "source": [
    "# '인사이드아웃'에 대한 값이 있는지 검사합니다.\n",
    "'인사이드아웃' in box_office"
   ]
  },
  {
   "cell_type": "code",
   "execution_count": 37,
   "metadata": {
    "collapsed": false
   },
   "outputs": [
    {
     "data": {
      "text/plain": [
       "인사이드아웃    4961121\n",
       "앤트맨       1804980\n",
       "dtype: int64"
      ]
     },
     "execution_count": 37,
     "metadata": {},
     "output_type": "execute_result"
    }
   ],
   "source": [
    "# 인사이드아웃과 앤트맨 정보를 이용해서 새로운 Series를 추가로 만듭니다.\n",
    "boffice_more = pd.Series([4961121, 1804980], index=['인사이드아웃', '앤트맨'])\n",
    "boffice_more"
   ]
  },
  {
   "cell_type": "code",
   "execution_count": 38,
   "metadata": {
    "collapsed": false
   },
   "outputs": [
    {
     "data": {
      "text/plain": [
       "베테랑      NaN\n",
       "암살       NaN\n",
       "앤트맨      NaN\n",
       "어벤저스     NaN\n",
       "인사이드아웃   NaN\n",
       "킹스맨      NaN\n",
       "dtype: float64"
      ]
     },
     "execution_count": 38,
     "metadata": {},
     "output_type": "execute_result"
    }
   ],
   "source": [
    "# 두 Series를 합쳐서 6편의 영화 박스 오피스 Series를 만들고 싶습니다.\n",
    "box_office + boffice_more"
   ]
  },
  {
   "cell_type": "code",
   "execution_count": 39,
   "metadata": {
    "collapsed": false
   },
   "outputs": [
    {
     "data": {
      "text/plain": [
       "암살      12575474\n",
       "베테랑     12187071\n",
       "어벤저스    10494499\n",
       "킹스맨      6129681\n",
       "dtype: int64"
      ]
     },
     "execution_count": 39,
     "metadata": {},
     "output_type": "execute_result"
    }
   ],
   "source": [
    "box_office"
   ]
  },
  {
   "cell_type": "code",
   "execution_count": 40,
   "metadata": {
    "collapsed": false
   },
   "outputs": [
    {
     "data": {
      "text/plain": [
       "인사이드아웃    4961121\n",
       "앤트맨       1804980\n",
       "dtype: int64"
      ]
     },
     "execution_count": 40,
     "metadata": {},
     "output_type": "execute_result"
    }
   ],
   "source": [
    "boffice_more"
   ]
  },
  {
   "cell_type": "code",
   "execution_count": 41,
   "metadata": {
    "collapsed": false
   },
   "outputs": [
    {
     "data": {
      "text/plain": [
       "암살        12575474\n",
       "베테랑       12187071\n",
       "어벤저스      10494499\n",
       "킹스맨        6129681\n",
       "인사이드아웃     4961121\n",
       "앤트맨        1804980\n",
       "dtype: int64"
      ]
     },
     "execution_count": 41,
     "metadata": {},
     "output_type": "execute_result"
    }
   ],
   "source": [
    "# +를 이용하면 동일한 인덱스(키)에 대해서 산술 연산을 수행하려 하므로\n",
    "# 즉, box_office['암살'] + boffice_more['암살'] 의 결과 값을\n",
    "# box_office + boffice_more의 결과로 생성되는 새로운 Series의 ['암살'] 값으로 대입하게 됩니다.\n",
    "# 하지만 boffice_more에는 '암살'에 대한 값이 없으므로 이 계산의 결과는 NaN이 됩니다.\n",
    "# 두 Series에는 겹치는 인덱스가 없으므로 전체 결과가 NaN이 됩니다.\n",
    "# 원하는대로 두 Series를 붙이려면 append()를 이용합니다.\n",
    "bo = box_office.append(boffice_more)\n",
    "bo"
   ]
  },
  {
   "cell_type": "code",
   "execution_count": 45,
   "metadata": {
    "collapsed": true
   },
   "outputs": [],
   "source": [
    "# matplotlib이나 다른 시각화 라이브러리를 '직접' 이용하지 않고 (pandas 내부에서 사용합니다)\n",
    "# 간단하게 한 줄만 코딩해서 빠르게 그래프를 만들 수 있습니다.\n",
    "\n",
    "# Jupyter Notebook 안에서 플롯을 확인하기 위해 %matplotlib 매직 함수를 사용\n",
    "%matplotlib inline\n",
    "\n",
    "# 기본 matplotlib의 스타일은 덜 이쁘니까 ggplot 스타일을 사용하겠습니다.\n",
    "from matplotlib import rcParams, style\n",
    "style.use('ggplot')\n",
    "\n",
    "# plot() 함수에서 사용하는 matplotlib에서 기본으로 사용하는 폰트에는 한글이 없어서\n",
    "# 한글이 나오도록 폰트를 지정해줍니다.\n",
    "# Mac을 사용하는 경우 아래 주석을 풀어주면 됩니다.\n",
    "rcParams['font.family'] = 'NanumGothicOTF' # Mac OS"
   ]
  },
  {
   "cell_type": "code",
   "execution_count": 46,
   "metadata": {
    "collapsed": false
   },
   "outputs": [],
   "source": [
    "# Windows에서는 아래 코드를 실행시켜 폰트 이름을 확인하고 한글 폰트를 지정해주면 됩니다.\n",
    "#import matplotlib.font_manager as fm\n",
    "#[f.name for f in fm.fontManager.ttflist]\n",
    "\n",
    "# 구글에서 배포하는 무료 폰트인 Noto Sans Korean을 추천합니다.\n",
    "# https://www.google.co.kr/get/noto/#/\n",
    "# 위 페이지에 들어가셔서 검색에 Korean을 입력하시면 다운받을 수 있습니다.\n",
    "# 설치 후 아래 주석을 풀어주세요.\n",
    "#rcParams['font.family'] = 'Noto Sans Korean' # Windows, Noto Sans Korean 폰트"
   ]
  },
  {
   "cell_type": "code",
   "execution_count": 47,
   "metadata": {
    "collapsed": false
   },
   "outputs": [
    {
     "data": {
      "text/plain": [
       "<matplotlib.axes._subplots.AxesSubplot at 0x10a682748>"
      ]
     },
     "execution_count": 47,
     "metadata": {},
     "output_type": "execute_result"
    },
    {
     "data": {
      "image/png": "[encoded data removed]",
      "text/plain": [
       "<matplotlib.figure.Figure at 0x10a574400>"
      ]
     },
     "metadata": {},
     "output_type": "display_data"
    }
   ],
   "source": [
    "# 바 차트\n",
    "bo.plot(kind='bar')"
   ]
  },
  {
   "cell_type": "code",
   "execution_count": 48,
   "metadata": {
    "collapsed": false
   },
   "outputs": [
    {
     "data": {
      "text/plain": [
       "<matplotlib.axes._subplots.AxesSubplot at 0x10a730b00>"
      ]
     },
     "execution_count": 48,
     "metadata": {},
     "output_type": "execute_result"
    },
    {
     "data": {
      "image/png": "[encoded data removed]",
      "text/plain": [
       "<matplotlib.figure.Figure at 0x10a92c588>"
      ]
     },
     "metadata": {},
     "output_type": "display_data"
    }
   ],
   "source": [
    "# kind 인자로 'barh'를 넘겨서 수평 바 차트를 그릴 수 있습니다.\n",
    "bo.plot(kind='barh')"
   ]
  },
  {
   "cell_type": "code",
   "execution_count": 49,
   "metadata": {
    "collapsed": false
   },
   "outputs": [
    {
     "data": {
      "text/plain": [
       "array([12575474, 12187071, 10494499,  6129681,  4961121,  1804980])"
      ]
     },
     "execution_count": 49,
     "metadata": {},
     "output_type": "execute_result"
    }
   ],
   "source": [
    "# Series에서 중복되는 값을 제거하고 유일한 값만 출력.\n",
    "# 현재 데이터 셋에는 중복되는 값이 없으니 모두 출력됩니다.\n",
    "bo.unique()"
   ]
  },
  {
   "cell_type": "code",
   "execution_count": 50,
   "metadata": {
    "collapsed": false
   },
   "outputs": [
    {
     "data": {
      "text/plain": [
       "12187071    1\n",
       "4961121     1\n",
       "1804980     1\n",
       "10494499    1\n",
       "12575474    1\n",
       "6129681     1\n",
       "dtype: int64"
      ]
     },
     "execution_count": 50,
     "metadata": {},
     "output_type": "execute_result"
    }
   ],
   "source": [
    "# Series에서 중복되는 값이 몇 개나 존재하는지를 담고 있는 Series를 만듭니다.\n",
    "# 마찬가지로 중복되는 값이 없으니 모두 1개라고 나옵니다.\n",
    "# 인덱스가 bo Series내의 값이 되고 값은 bo Series의 해당 값의 카운트입니다. \n",
    "bo.value_counts()"
   ]
  },
  {
   "cell_type": "code",
   "execution_count": 51,
   "metadata": {
    "collapsed": false
   },
   "outputs": [
    {
     "data": {
      "text/plain": [
       "암살        1\n",
       "베테랑       2\n",
       "어벤저스      3\n",
       "킹스맨       4\n",
       "인사이드아웃    5\n",
       "앤트맨       6\n",
       "dtype: float64"
      ]
     },
     "execution_count": 51,
     "metadata": {},
     "output_type": "execute_result"
    }
   ],
   "source": [
    "# Series의 값으로 순위를 매긴 Series를 만듭니다.\n",
    "# bo Series의 인덱스가 그대로 인덱스로 사용되고 값은 bo Series내의 순위가 됩니다.\n",
    "# 내림 차순으로 큰 값을 1위로 두기 위해 ascending 인자를 False로 넘겨주었습니다.\n",
    "bo.rank(ascending=False)"
   ]
  },
  {
   "cell_type": "code",
   "execution_count": null,
   "metadata": {
    "collapsed": true
   },
   "outputs": [],
   "source": []
  }
 ],
 "metadata": {
  "kernelspec": {
   "display_name": "Python 3",
   "language": "python",
   "name": "python3"
  },
  "language_info": {
   "codemirror_mode": {
    "name": "ipython",
    "version": 3
   },
   "file_extension": ".py",
   "mimetype": "text/x-python",
   "name": "python",
   "nbconvert_exporter": "python",
   "pygments_lexer": "ipython3",
   "version": "3.5.0"
  }
 },
 "nbformat": 4,
 "nbformat_minor": 0
}
